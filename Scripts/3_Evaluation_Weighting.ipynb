{
 "cells": [
  {
   "cell_type": "markdown",
   "id": "b8d6713b-75b6-42fa-a95c-cf261a74e017",
   "metadata": {},
   "source": [
    "# Calculate Spatial and temporal NME scores, then calculate ensemble weights."
   ]
  },
  {
   "cell_type": "code",
   "execution_count": 2,
   "id": "2c5d96de-b63d-4ede-82b1-7db867004357",
   "metadata": {
    "tags": []
   },
   "outputs": [],
   "source": [
    "import os\n",
    "import math\n",
    "from copy import deepcopy\n",
    "\n",
    "import numpy as np\n",
    "import pandas as pd\n",
    "import seaborn as sns\n",
    "import warnings\n",
    "import tqdm\n",
    "tqdm.tqdm.pandas(desc='Progress bar')\n",
    "from kneed import KneeLocator\n",
    "\n",
    "from Functions import *\n",
    "from Global_Variables import *"
   ]
  },
  {
   "cell_type": "code",
   "execution_count": 3,
   "id": "bc2545d1-f8cb-448f-aeae-22ef2e5c2d3c",
   "metadata": {
    "tags": []
   },
   "outputs": [],
   "source": [
    "obs_df = add_global(pd.read_pickle(os.path.join(RESULTS_PATH, 'AR6_obs_df.pkl')))\n",
    "obsclim_df = add_global(pd.read_pickle(os.path.join(RESULTS_PATH, 'AR6_obsclim_df.pkl')))\n",
    "counterclim_df = add_global(pd.read_pickle(os.path.join(RESULTS_PATH, 'AR6_counterclim_df.pkl')))\n",
    "\n",
    "start_year, end_year = 2003, 2019\n",
    "rng = np.random.default_rng(SEED)"
   ]
  },
  {
   "cell_type": "markdown",
   "id": "3824eb26-bba9-4342-89ff-c006b48dc067",
   "metadata": {},
   "source": [
    "## Calculate Error scores"
   ]
  },
  {
   "cell_type": "markdown",
   "id": "db7c082e-211f-4bc3-a920-85e29058c0de",
   "metadata": {
    "jp-MarkdownHeadingCollapsed": true,
    "tags": []
   },
   "source": [
    "### Spatial NME"
   ]
  },
  {
   "cell_type": "code",
   "execution_count": 67,
   "id": "a852011b-7fd1-42b6-8683-58ec7ba582e3",
   "metadata": {
    "tags": []
   },
   "outputs": [],
   "source": [
    "warnings.filterwarnings('ignore') # Surpress some unimportant warnings\n",
    "\n",
    "NME_scores = pd.DataFrame(index=pd.MultiIndex.from_product([obs_dict.keys(), ('$NME_1$', '$NME_3$')], names=['Observation', 'NME']), columns=obsclim_df.columns.unique(level='Model'))\n",
    "\n",
    "for obsname in NME_scores.index.unique(level='Observation'):\n",
    "    obs = constrain_time(iris.load_cube(obs_dict[obsname]), start_year, end_year)\n",
    "    for modelname in NME_scores.columns.unique(level='Model'):\n",
    "        model = constrain_time(preprocess_model(iris.load_cube(model_dict[modelname]['obsclim']), modelname), start_year, end_year)\n",
    "        NME_scores.loc[(obsname), modelname] = [NME1(obs, model), NME3(obs, model)]\n",
    "\n",
    "warnings.filterwarnings('default')   \n",
    "NME_scores.to_pickle(os.path.join(RESULTS_PATH, 'NME_scores_spatial.pkl'))       "
   ]
  },
  {
   "cell_type": "markdown",
   "id": "b25d2f83-8320-42d3-a9ce-d1e96f504e76",
   "metadata": {},
   "source": [
    "### RMSE"
   ]
  },
  {
   "cell_type": "code",
   "execution_count": 3,
   "id": "a1394f70-16a4-476d-8e75-9acfcf5d910f",
   "metadata": {
    "tags": []
   },
   "outputs": [],
   "source": [
    "obs_pd = constrain_time(obs_df, start_year, end_year)\n",
    "obs_double_df = obs_pd.stack(sort=False).swaplevel(0, 1).sort_index()\n",
    "obs_yearly_double_df = to_annual(obs_pd).stack(sort=False).swaplevel(0, 1).sort_index()\n",
    "\n",
    "obsclim_pd = constrain_time(obsclim_df, start_year, end_year)\n",
    "obsclim_double_df = pd.concat([obsclim_pd]*2)\n",
    "obsclim_yearly_double_df = pd.concat([to_annual(obsclim_pd)]*2)\n",
    "\n",
    "RMSE_RA_monthly_df = pd.DataFrame(index=['RMSE'], columns=obsclim_df.columns)\n",
    "RMSE_RA_annual_df = pd.DataFrame(index=['RMSE'], columns=obsclim_df.columns)\n",
    "RMSE_monthly_RA_monthly_df = pd.DataFrame(index=obs_pd.index.month.unique(), columns=obsclim_df.columns)\n",
    "RMSE_monthly_RA_monthly_df.index.name = 'Month'\n",
    "RMSE_monthly_log_RA_monthly_df = pd.DataFrame(index=obs_pd.index.month.unique(), columns=obsclim_df.columns)\n",
    "RMSE_monthly_log_RA_monthly_df.index.name = 'Month'\n",
    "\n",
    "for regionname, modelname in RMSE_RA_monthly_df.columns:\n",
    "    obs_RA = obs_double_df.loc[slice(None), regionname].groupby('Observation', observed=True).apply(lambda df: relative_anomaly(df)).droplevel(1).droplevel('Observation')\n",
    "    model_RA = obsclim_double_df.loc[slice(None), regionname].stack('Model').groupby('Model', observed=True).apply(lambda df: relative_anomaly(df)).droplevel(2)\n",
    "    RMSE_RA_monthly_df.loc['RMSE', (regionname)] = model_RA.groupby('Model', observed=False).apply(lambda model: ((obs_RA - model.droplevel('Model'))**2).mean()**.5).values\n",
    "    \n",
    "    obs_yearly_RA = obs_yearly_double_df.loc[slice(None), regionname].groupby('Observation', observed=True).apply(lambda df: relative_anomaly(df)).droplevel(1).droplevel('Observation')\n",
    "    model_yearly_RA = obsclim_yearly_double_df.loc[slice(None), regionname].stack('Model').groupby('Model', observed=True).apply(lambda df: relative_anomaly(df)).droplevel(2)\n",
    "    RMSE_RA_annual_df.loc['RMSE', (regionname)] = model_yearly_RA.groupby('Model', observed=False).apply(lambda model: ((obs_yearly_RA - model.droplevel('Model'))**2).mean()**.5).values\n",
    "    \n",
    "    \n",
    "    for month_idx in RMSE_monthly_RA_monthly_df.index:\n",
    "        obs_RA_month = obs_RA.loc[obs_RA.index.month == month_idx]\n",
    "        model_RA_month = model_RA.loc[model_RA.index.get_level_values(1).month == month_idx]\n",
    "        RMSE_monthly_RA_monthly_df.loc[month_idx, (regionname)] = model_RA_month.groupby('Model', observed=False).apply(lambda model: ((obs_RA_month - model.droplevel('Model'))**2).mean()**.5).values\n",
    "        RMSE_monthly_log_RA_monthly_df.loc[month_idx, (regionname)] = model_RA_month.groupby('Model', observed=False).apply(lambda model: ((log_transform(obs_RA_month) - log_transform(model).droplevel('Model'))**2).mean()**.5).values\n",
    "\n",
    "        \n",
    "RMSE_RA_monthly_df.to_pickle(os.path.join(RESULTS_PATH, 'RMSE_RA_monthly.pkl'))\n",
    "RMSE_RA_annual_df.to_pickle(os.path.join(RESULTS_PATH, 'RMSE_RA_annual.pkl'))\n",
    "RMSE_monthly_RA_monthly_df.to_pickle(os.path.join(RESULTS_PATH, 'RMSE_monthly_RA_monthly.pkl'))\n",
    "RMSE_monthly_log_RA_monthly_df.to_pickle(os.path.join(RESULTS_PATH, 'RMSE_monthly_log_RA_monthly.pkl'))"
   ]
  },
  {
   "cell_type": "markdown",
   "id": "f676698c-3e4a-4cd9-b64f-0802ce137b21",
   "metadata": {},
   "source": [
    "## Optimal sigmaD (1000 times)"
   ]
  },
  {
   "cell_type": "markdown",
   "id": "9b162237-182e-498a-b086-9ff40d5a9fb7",
   "metadata": {},
   "source": [
    "### Temporal NME"
   ]
  },
  {
   "cell_type": "markdown",
   "id": "c0f77e85-51dd-419a-add6-f6e7e763fd55",
   "metadata": {},
   "source": [
    "Calculate __for__ each region, __for__ each of the the two observations the temporal NME3 scores (annual and ranked) of the _fire models_ and the _reference model_ (randomly resampled observations)."
   ]
  },
  {
   "cell_type": "code",
   "execution_count": 4,
   "id": "2b1e36bf-e107-447a-92f9-ffc828477aed",
   "metadata": {
    "tags": []
   },
   "outputs": [],
   "source": [
    "rng = np.random.default_rng(SEED)\n",
    "start_year, end_year = 2003, 2019\n",
    "index = pd.MultiIndex.from_product([obs_dict.keys(), ('NME3_ranked', 'NME3_annual')], names=['Observation', 'NME'])\n",
    "NME_scores = pd.DataFrame(index=index, columns=obsclim_df.columns, dtype=np.float32)\n",
    "\n",
    "columns = obsclim_df.columns.unique(level='Region')\n",
    "NME_ref_scores = pd.DataFrame(index=index, columns=columns, dtype=np.float32)\n",
    "\n",
    "for regionname, modelname in NME_scores.columns:\n",
    "    obs = constrain_time(select_region(obs_df, regionname), start_year, end_year)\n",
    "    model = constrain_time(select_region(select_models(obsclim_df, modelname), regionname), start_year, end_year)\n",
    "       \n",
    "    for obs_name in NME_scores.index.unique(level='Observation'):\n",
    "        obs_select = select_models(obs, obs_name)\n",
    "        obs_series, model_series = obs_select[(regionname, obs_name)], model[(regionname, modelname)]\n",
    "        obs_annual_series, model_annual_series = to_annual(obs_select)[(regionname, obs_name)], to_annual(model)[(regionname, modelname)]\n",
    "        \n",
    "        random_obs = pd.Series(rng.choice(obs_select.values.flatten(), size=len(obs.index), replace=False), index=obs_select.index)\n",
    "        \n",
    "        NME_scores.loc[(obs_name), (regionname, modelname)] = (NME3_temporal(obs_series.sort_values(), model_series.sort_values()), NME3_temporal(obs_annual_series, model_annual_series))\n",
    "        NME_ref_scores.loc[(obs_name), (regionname)] = [NME3_temporal(obs_series.sort_values(), random_obs), NME3_temporal(to_annual(obs_series), to_annual(random_obs))]\n",
    "\n",
    "NME_scores.to_pickle(os.path.join(RESULTS_PATH, 'NME_scores_temporal.pkl'))\n",
    "NME_ref_scores.to_pickle(os.path.join(RESULTS_PATH, 'NME_ref_scores_temporal.pkl'))"
   ]
  },
  {
   "cell_type": "code",
   "execution_count": 5,
   "id": "a51d7eb1-c57f-460a-b92e-7a4dcf1cf92c",
   "metadata": {
    "tags": []
   },
   "outputs": [],
   "source": [
    "max_sigmaD = 10\n",
    "sigmaDs = pd.Series(np.logspace(0.01, np.log2(max_sigmaD+1), base=2,num=500, dtype=np.float32)-1, name='sigmaD')\n",
    "model_weights = pd.DataFrame(np.nan, index=sigmaDs, columns=obsclim_df.columns, dtype=np.float64)\n",
    "\n",
    "distances = pd.to_numeric((NME_scores/NME_scores.T.groupby(level='Region', sort=False, observed=True).median().T).sum())\n",
    "for sigmaD in model_weights.index:\n",
    "    weights_not_normalized = (-distances/sigmaD).apply(lambda x: np.exp(x))\n",
    "    weights_normalized = weights_not_normalized/weights_not_normalized.groupby(level=('Region'), sort=False, observed=True).sum()\n",
    "    model_weights.loc[(sigmaD), slice(None)] = weights_normalized"
   ]
  },
  {
   "cell_type": "code",
   "execution_count": 6,
   "id": "34ec76f3-e6cc-485b-b3f3-d64d9b152ea0",
   "metadata": {
    "tags": []
   },
   "outputs": [
    {
     "name": "stderr",
     "output_type": "stream",
     "text": [
      "100%|██████████████████████████████████████████████████████████████████████████████| 1000/1000 [49:28<00:00,  2.97s/it]\n"
     ]
    }
   ],
   "source": [
    "obsclim_pd = constrain_time(obsclim_df, start_year, end_year)\n",
    "obsclim_pd_RA = relative_anomaly(pd.concat([obsclim_pd]*2))\n",
    "obs_pd_RA_df = relative_anomaly(constrain_time(obs_df, start_year, end_year)).stack(sort=False).swaplevel(0, 1).sort_index().droplevel('Observation')\n",
    "\n",
    "num_loops = 1000\n",
    "fraction_correct = []\n",
    "\n",
    "for idx in tqdm.tqdm(range(num_loops)):\n",
    "    obsclim_pd_RA_added_noise = add_error(obsclim_pd_RA, seed=idx, error=RMSE_monthly_log_RA_monthly_df)\n",
    "    fraction_correct_idx = []\n",
    "    \n",
    "    for sigmaD in sigmaDs:\n",
    "        weights = model_weights.loc[sigmaD]\n",
    "        weighted_average = (obsclim_pd_RA_added_noise*weights).T.groupby(level='Region', sort=False, observed=True).sum().T\n",
    "        \n",
    "        variance = obsclim_pd_RA_added_noise.subtract(weighted_average, axis=0)**2\n",
    "        weighted_variance = variance*weights\n",
    "        weighted_variance_regional = weighted_variance.T.groupby(level='Region', sort=False, observed=True).sum().T\n",
    "        weighted_stddev = np.sqrt(weighted_variance_regional)\n",
    "        \n",
    "        upper_bound = weighted_average+1.96*weighted_stddev\n",
    "        lower_bound = weighted_average-1.96*weighted_stddev\n",
    "        \n",
    "        fraction_correct_idx_sigmaD = ((obs_pd_RA_df <= upper_bound) & (obs_pd_RA_df >= lower_bound)).mean(axis=0)\n",
    "        fraction_correct_idx_sigmaD.name = sigmaD\n",
    "        fraction_correct_idx.append(fraction_correct_idx_sigmaD)\n",
    "        \n",
    "    fraction_correct_idx = pd.concat(fraction_correct_idx, axis=1).T\n",
    "    fraction_correct_idx.index.name = 'sigmaD'\n",
    "    fraction_correct.append(fraction_correct_idx)\n",
    "    \n",
    "fraction_correct = pd.concat(fraction_correct, keys=np.arange(num_loops), names=['idx', 'sigmaD'])\n",
    "fraction_correct.to_pickle(os.path.join(RESULTS_PATH, 'fraction_correct.pkl'))"
   ]
  },
  {
   "cell_type": "code",
   "execution_count": 7,
   "id": "69fd4808-6292-46af-8c1e-260b21dfbc44",
   "metadata": {},
   "outputs": [],
   "source": [
    "def get_best_knee(kneelocator):\n",
    "    y_knees = list(kneelocator.all_knees_y)\n",
    "    best_idx = 0\n",
    "    for idx, y in enumerate(y_knees):\n",
    "        if y >= y_knees[best_idx]+0.01:\n",
    "            best_idx = idx   \n",
    "            if y >= 0.95:\n",
    "                break\n",
    "    return pd.Series([list(kneelocator.all_knees)[best_idx], y_knees[best_idx]], index=['sigmaD', 'fraction_correct'])"
   ]
  },
  {
   "cell_type": "code",
   "execution_count": 8,
   "id": "0397feeb-0c82-49c1-aa3f-5bef78230226",
   "metadata": {},
   "outputs": [
    {
     "name": "stderr",
     "output_type": "stream",
     "text": [
      "Progress bar: 100%|█████████████████████████████████████████████████████████████| 44000/44000 [04:15<00:00, 172.25it/s]\n",
      "Progress bar: 100%|████████████████████████████████████████████████████████████| 44000/44000 [00:08<00:00, 5322.99it/s]\n"
     ]
    }
   ],
   "source": [
    "knees = fraction_correct.stack('Region').unstack('sigmaD').groupby(['idx', 'Region'], observed=False).progress_apply(lambda row: KneeLocator(x=row.columns.values, y=row.values[0], S=15, direction='increasing', online=True))\n",
    "knee_results = knees.progress_apply(lambda kl: get_best_knee(kl))\n",
    "knee_results.to_pickle(os.path.join(RESULTS_PATH, 'knees.pkl'))"
   ]
  },
  {
   "cell_type": "code",
   "execution_count": 9,
   "id": "c26b55e5-0294-4352-971f-4d0eb96e1312",
   "metadata": {
    "tags": []
   },
   "outputs": [],
   "source": [
    "optimal_sigmaDs = knee_results.sigmaD.unstack('Region')\n",
    "\n",
    "optimal_weights = pd.DataFrame(index=optimal_sigmaDs.index, columns=model_weights.columns, dtype=np.float32)\n",
    "for regionname in optimal_sigmaDs.columns:\n",
    "    region_weights = model_weights.loc[(optimal_sigmaDs.loc[slice(None), regionname].dropna()), (regionname)]\n",
    "    optimal_weights.loc[(~optimal_sigmaDs.loc[slice(None), regionname].isna()), (regionname)] = region_weights.values.astype(np.float32)\n",
    "\n",
    "optimal_weights.index = optimal_weights.index.astype(np.int16)\n",
    "optimal_weights.to_pickle(os.path.join(RESULTS_PATH, 'optimal_weights.pkl'))"
   ]
  },
  {
   "cell_type": "code",
   "execution_count": 15,
   "id": "25b5a2d5-8e4d-4b20-934c-373cad8226f4",
   "metadata": {
    "tags": []
   },
   "outputs": [],
   "source": [
    "knee_results = pd.read_pickle(os.path.join(RESULTS_PATH, 'knees.pkl'))\n",
    "fraction_correct = pd.read_pickle(os.path.join(RESULTS_PATH, 'fraction_correct.pkl'))"
   ]
  },
  {
   "cell_type": "code",
   "execution_count": 52,
   "id": "8e96cc85-18f5-4b40-bc2b-6f42f9c032e3",
   "metadata": {
    "tags": []
   },
   "outputs": [],
   "source": [
    "idx=1\n",
    "fraction_global = fraction_correct.loc[idx, 'Global']\n",
    "best = knee_results.loc[idx, 'Global']"
   ]
  },
  {
   "cell_type": "code",
   "execution_count": 24,
   "id": "1741625e-7721-470a-93e1-080fd86405be",
   "metadata": {
    "tags": []
   },
   "outputs": [
    {
     "name": "stderr",
     "output_type": "stream",
     "text": [
      "C:\\Users\\slampe\\AppData\\Local\\Temp\\ipykernel_13720\\4054558147.py:1: FutureWarning: The default of observed=False is deprecated and will be changed to True in a future version of pandas. Pass observed=False to retain current behavior or observed=True to adopt the future default and silence this warning.\n",
      "  best = knee_results.groupby('Region').mean().loc['Global']\n"
     ]
    }
   ],
   "source": [
    "best = knee_results.groupby('Region').mean().loc['Global']\n",
    "fraction_global = fraction_correct.stack().groupby(['sigmaD', 'Region']).mean().loc[(slice(None), 'Global')]"
   ]
  },
  {
   "cell_type": "code",
   "execution_count": 55,
   "id": "08254aa4-73fd-479d-bd72-1bf2b518ac83",
   "metadata": {
    "tags": []
   },
   "outputs": [
    {
     "data": {
      "image/png": "[encoded data removed]",
      "text/plain": [
       "<Figure size 640x480 with 1 Axes>"
      ]
     },
     "metadata": {},
     "output_type": "display_data"
    }
   ],
   "source": [
    "fraction_global.name = 'Fraction Correct'\n",
    "global_plot = sns.lineplot(fraction_global)\n",
    "global_plot.axvline(x=best.sigmaD, ymin=0, ymax=best.fraction_correct*0.98)\n",
    "plt.savefig('test.png', dpi=300, bbox_inches='tight', transparent=True)"
   ]
  },
  {
   "cell_type": "code",
   "execution_count": 40,
   "id": "b5c35dcc-8b0b-4c0e-8561-a622a1a82f84",
   "metadata": {
    "tags": []
   },
   "outputs": [
    {
     "data": {
      "text/plain": [
       "<matplotlib.lines.Line2D at 0x22c00d8cdd0>"
      ]
     },
     "execution_count": 40,
     "metadata": {},
     "output_type": "execute_result"
    }
   ],
   "source": [
    "height = np.interp(best, global_plot.lines[0].get_xdata(), global_plot.lines[0].get_ydata())\n",
    "global_plot.axvline(x=best.sigmaD, ymin=0, ymax=best.fraction_correct)"
   ]
  },
  {
   "cell_type": "code",
   "execution_count": 36,
   "id": "0ef3a2ac-ea98-4ec5-9a5a-dd98c14e55d2",
   "metadata": {
    "tags": []
   },
   "outputs": [
    {
     "data": {
      "text/plain": [
       "<Axes.ArtistList of 1 lines>"
      ]
     },
     "execution_count": 36,
     "metadata": {},
     "output_type": "execute_result"
    }
   ],
   "source": [
    "global_plot.lines"
   ]
  },
  {
   "cell_type": "code",
   "execution_count": 38,
   "id": "8b602faf-6ff5-4024-9edb-1b98d931b6b0",
   "metadata": {
    "tags": []
   },
   "outputs": [
    {
     "data": {
      "text/plain": [
       "array([0.96655582, 0.94163101])"
      ]
     },
     "execution_count": 38,
     "metadata": {},
     "output_type": "execute_result"
    }
   ],
   "source": [
    "height"
   ]
  },
  {
   "cell_type": "code",
   "execution_count": 39,
   "id": "2bf4a274-5c5d-43cd-ae1c-9cff4cbf497b",
   "metadata": {
    "tags": []
   },
   "outputs": [
    {
     "data": {
      "text/plain": [
       "sigmaD              2.024660\n",
       "fraction_correct    0.968176\n",
       "Name: Global, dtype: float64"
      ]
     },
     "execution_count": 39,
     "metadata": {},
     "output_type": "execute_result"
    }
   ],
   "source": [
    "best"
   ]
  },
  {
   "cell_type": "code",
   "execution_count": null,
   "id": "454e72f1-c942-41fe-8136-4ee4d7bd54e4",
   "metadata": {},
   "outputs": [],
   "source": []
  }
 ],
 "metadata": {
  "kernelspec": {
   "display_name": "Python 3 (ipykernel)",
   "language": "python",
   "name": "python3"
  },
  "language_info": {
   "codemirror_mode": {
    "name": "ipython",
    "version": 3
   },
   "file_extension": ".py",
   "mimetype": "text/x-python",
   "name": "python",
   "nbconvert_exporter": "python",
   "pygments_lexer": "ipython3",
   "version": "3.11.0"
  }
 },
 "nbformat": 4,
 "nbformat_minor": 5
}
