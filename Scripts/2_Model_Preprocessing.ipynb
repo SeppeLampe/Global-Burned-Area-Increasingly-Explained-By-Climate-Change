{
 "cells": [
  {
   "cell_type": "markdown",
   "id": "69e8619b-03a2-45ad-9c65-dba716010e70",
   "metadata": {
    "tags": []
   },
   "source": [
    "### Create Monthly Time Series DataFrames (and pickle.dump them)"
   ]
  },
  {
   "cell_type": "code",
   "execution_count": 5,
   "id": "16e18c16-24fe-4fed-b157-518773e7784a",
   "metadata": {
    "tags": []
   },
   "outputs": [],
   "source": [
    "import os\n",
    "import warnings\n",
    "import random\n",
    "\n",
    "import numpy as np\n",
    "import pandas as pd\n",
    "import iris\n",
    "from iris import pandas\n",
    "import cftime\n",
    "\n",
    "from Functions import *\n",
    "from Global_Variables import *"
   ]
  },
  {
   "cell_type": "markdown",
   "id": "cc068e01-e951-425f-aa75-7a28062acc2a",
   "metadata": {},
   "source": [
    "The following two cells take quite some time to execute. Their results are stored in pandas DataFrames and pickle dumped under Results. They are used in in the following notebooks."
   ]
  },
  {
   "cell_type": "markdown",
   "id": "a22d20d0-a543-47ef-bc11-bbf6628b8423",
   "metadata": {},
   "source": [
    "Observations"
   ]
  },
  {
   "cell_type": "code",
   "execution_count": 2,
   "id": "a7b54bfe-466c-4877-a4e4-6e4d55bc9835",
   "metadata": {
    "tags": []
   },
   "outputs": [],
   "source": [
    "warnings.filterwarnings('ignore') # Surpress some unimportant warnings\n",
    "obs_df_list = []\n",
    "region_list = list(AR6_masks.keys())\n",
    "region_list.append('Global')\n",
    "columns = pd.CategoricalIndex(AR6_masks.keys(), categories=region_list)\n",
    "\n",
    "for obs_name, obs_loc in obs_dict.items():\n",
    "    obs = iris.load_cube(obs_loc)\n",
    "    time = obs.coords(\"time\")[0]\n",
    "    start_date = cftime.num2date(time.points, time.units.name, calendar=time.units.calendar)[0]\n",
    "    dates = np.array(list(map(lambda x: np.datetime64(f'{start_date.year}-{start_date.month:02d}') + np.timedelta64(int(x),'M'), np.arange(len(time.points)))))\n",
    "    index = pd.DatetimeIndex(data=dates, name='Date')\n",
    "    obs_df = pd.DataFrame(data=np.full((index.size, len(columns)), np.nan), index=index, columns=columns)\n",
    "\n",
    "    for idx, (regionname, region_mask) in enumerate(AR6_masks.items()):\n",
    "        obs_df.loc[slice(None), regionname] = to_timeseries(mask_region(obs, region_mask)).data\n",
    "    \n",
    "    obs_df_list.append(obs_df)\n",
    "    \n",
    "names = ['Observation', 'Region']  \n",
    "AR6_indices = {name: idx for idx, name in enumerate(region_list)}\n",
    "obs_df = pd.concat(obs_df_list, axis=1, keys=pd.CategoricalIndex(obs_dict.keys()), names=names).reorder_levels(names[::-1], axis=1).sort_values(by='Region', axis=1, key=lambda col: col.apply(lambda x: AR6_indices[x]))\n",
    "obs_df.to_pickle(os.path.join(RESULTS_PATH, 'AR6_obs_df.pkl')) \n",
    "warnings.filterwarnings('default')"
   ]
  },
  {
   "cell_type": "markdown",
   "id": "7189ec13-12dd-4333-a3c1-1cb0ca0c8556",
   "metadata": {},
   "source": [
    "Simulations"
   ]
  },
  {
   "cell_type": "code",
   "execution_count": 6,
   "id": "27d84816-ce26-415b-8df4-fe19ef04e4b1",
   "metadata": {
    "tags": []
   },
   "outputs": [],
   "source": [
    "warnings.filterwarnings('ignore') # Surpress some unimportant warnings\n",
    "\n",
    "random_model_name = random.choice(list(model_dict.keys()))\n",
    "\n",
    "dates = np.array([np.datetime64('1901-01') + np.timedelta64(int(idx),'M') for idx in range(preprocess_model(iris.load_cube(model_dict[random_model_name]['obsclim']), random_model_name).coords(\"time\")[0].points.size)])\n",
    "index = pd.DatetimeIndex(data=dates, name='Date')\n",
    "multi_index=pd.MultiIndex.from_product([columns, pd.CategoricalIndex(model_dict.keys())], names=['Region', 'Model'])\n",
    "\n",
    "obsclim_df = pd.DataFrame(data=np.full((index.size, multi_index.size), np.nan), index=index, columns=multi_index)\n",
    "counterclim_df = pd.DataFrame(data=np.full((index.size, multi_index.size), np.nan), index=index, columns=multi_index)\n",
    "\n",
    "for model_name, model_dict_path in model_dict.items():\n",
    "    obsclim = preprocess_model(iris.load_cube(model_dict_path['obsclim']), model_name)\n",
    "    counterclim = preprocess_model(iris.load_cube(model_dict_path['counterclim']), model_name)\n",
    "    \n",
    "    for idx, (regionname, region_mask) in enumerate(AR6_masks.items()):\n",
    "        for sim, dfs in ((obsclim, obsclim_df), (counterclim, counterclim_df)):\n",
    "            model_region = to_timeseries(mask_region(sim, region_mask))            \n",
    "            dfs.loc[:, (regionname, model_name)] = iris.pandas.as_series(model_region).values\n",
    "\n",
    "obsclim_df.to_pickle(os.path.join(RESULTS_PATH, 'AR6_obsclim_df.pkl'))\n",
    "counterclim_df.to_pickle(os.path.join(RESULTS_PATH, 'AR6_counterclim_df.pkl'))\n",
    "\n",
    "warnings.filterwarnings('default')"
   ]
  }
 ],
 "metadata": {
  "kernelspec": {
   "display_name": "Python 3 (ipykernel)",
   "language": "python",
   "name": "python3"
  },
  "language_info": {
   "codemirror_mode": {
    "name": "ipython",
    "version": 3
   },
   "file_extension": ".py",
   "mimetype": "text/x-python",
   "name": "python",
   "nbconvert_exporter": "python",
   "pygments_lexer": "ipython3",
   "version": "3.11.0"
  }
 },
 "nbformat": 4,
 "nbformat_minor": 5
}
